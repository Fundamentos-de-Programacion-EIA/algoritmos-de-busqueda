{
 "cells": [
  {
   "cell_type": "code",
   "execution_count": 1,
   "metadata": {},
   "outputs": [],
   "source": [
    "import random"
   ]
  },
  {
   "cell_type": "code",
   "execution_count": 2,
   "metadata": {},
   "outputs": [],
   "source": [
    "def quick_sort(lista_desordenada):\n",
    "    low=[]\n",
    "    same=[]\n",
    "    high=[]\n",
    "\n",
    "    if len(lista_desordenada) <2:\n",
    "        return lista_desordenada\n",
    "\n",
    "    pivot = random.choice(lista_desordenada)\n",
    "\n",
    "    for i in lista_desordenada:\n",
    "        if i<pivot:\n",
    "            low.append(i)\n",
    "        elif i>pivot:\n",
    "            high.append(i)\n",
    "        else:\n",
    "            same.append(i)\n",
    "\n",
    "    return quick_sort(low) + same + quick_sort(high)"
   ]
  },
  {
   "cell_type": "code",
   "execution_count": 3,
   "metadata": {},
   "outputs": [],
   "source": [
    "lista = [6, 8, 10, 21, 3, 2, -6]"
   ]
  },
  {
   "cell_type": "code",
   "execution_count": 15,
   "metadata": {},
   "outputs": [],
   "source": [
    "def busqueda_binaria(objetivo, lista):\n",
    "    lista = quick_sort(lista)\n",
    "    izquierda = 0\n",
    "    derecha = len(lista) - 1\n",
    "    while izquierda <= derecha:\n",
    "        mitad = (izquierda + derecha)//2\n",
    "\n",
    "        if lista[mitad] == objetivo:\n",
    "            return mitad\n",
    "        elif lista[mitad] < objetivo:\n",
    "            izquierda = mitad + 1\n",
    "        else:\n",
    "            derecha = mitad - 1\n",
    "    return \"No encontrado\"\n"
   ]
  },
  {
   "cell_type": "code",
   "execution_count": 18,
   "metadata": {},
   "outputs": [
    {
     "data": {
      "text/plain": [
       "1"
      ]
     },
     "execution_count": 18,
     "metadata": {},
     "output_type": "execute_result"
    }
   ],
   "source": [
    "busqueda_binaria(2, lista)"
   ]
  }
 ],
 "metadata": {
  "kernelspec": {
   "display_name": "Python 3",
   "language": "python",
   "name": "python3"
  },
  "language_info": {
   "codemirror_mode": {
    "name": "ipython",
    "version": 3
   },
   "file_extension": ".py",
   "mimetype": "text/x-python",
   "name": "python",
   "nbconvert_exporter": "python",
   "pygments_lexer": "ipython3",
   "version": "3.11.4"
  }
 },
 "nbformat": 4,
 "nbformat_minor": 2
}
